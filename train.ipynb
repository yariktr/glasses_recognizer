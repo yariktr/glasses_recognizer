{
  "cells": [
    {
      "cell_type": "code",
      "execution_count": 15,
      "metadata": {
        "id": "ka7xtyB-yCTX"
      },
      "outputs": [],
      "source": [
        "import torch"
      ]
    },
    {
      "cell_type": "code",
      "execution_count": 16,
      "metadata": {
        "colab": {
          "base_uri": "https://localhost:8080/"
        },
        "id": "gdyGwLbJzEye",
        "outputId": "3b3aa902-05f4-4248-e2b2-1ba4973e96e6"
      },
      "outputs": [
        {
          "name": "stdout",
          "output_type": "stream",
          "text": [
            "Drive already mounted at /content/drive; to attempt to forcibly remount, call drive.mount(\"/content/drive\", force_remount=True).\n"
          ]
        }
      ],
      "source": [
        "from google.colab import drive\n",
        "drive.mount('/content/drive')"
      ]
    },
    {
      "cell_type": "code",
      "execution_count": 17,
      "metadata": {
        "colab": {
          "base_uri": "https://localhost:8080/"
        },
        "id": "O9122aCL0iLc",
        "outputId": "bb932b71-e620-45bf-a2b4-9e6f70bf8dd6"
      },
      "outputs": [
        {
          "name": "stdout",
          "output_type": "stream",
          "text": [
            "/content/drive/MyDrive/yolo_task\n"
          ]
        }
      ],
      "source": [
        "%cd /content/drive/MyDrive/yolo_task/"
      ]
    },
    {
      "cell_type": "code",
      "execution_count": 18,
      "metadata": {
        "colab": {
          "base_uri": "https://localhost:8080/"
        },
        "id": "12UvjbR51fWW",
        "outputId": "9deae296-f802-4e19-f39f-179dd15ff7f6"
      },
      "outputs": [
        {
          "name": "stderr",
          "output_type": "stream",
          "text": [
            "Using cache found in /root/.cache/torch/hub/ultralytics_yolov5_master\n",
            "YOLOv5 🚀 2024-5-11 Python-3.10.12 torch-2.2.1+cu121 CUDA:0 (Tesla T4, 15102MiB)\n",
            "\n",
            "Fusing layers... \n",
            "YOLOv5s summary: 213 layers, 7225885 parameters, 0 gradients, 16.4 GFLOPs\n",
            "Adding AutoShape... \n"
          ]
        }
      ],
      "source": [
        "model = torch.hub.load('ultralytics/yolov5', 'yolov5s', pretrained=True)"
      ]
    },
    {
      "cell_type": "code",
      "execution_count": 21,
      "metadata": {
        "colab": {
          "base_uri": "https://localhost:8080/"
        },
        "id": "c0TXGSSm2bEL",
        "outputId": "37fb0f45-3e13-452b-8e24-fb77c16ebc00"
      },
      "outputs": [
        {
          "name": "stdout",
          "output_type": "stream",
          "text": [
            "/content/drive/MyDrive\n"
          ]
        }
      ],
      "source": [
        "%cd /content/drive/MyDrive/"
      ]
    },
    {
      "cell_type": "code",
      "execution_count": 22,
      "metadata": {
        "colab": {
          "base_uri": "https://localhost:8080/"
        },
        "id": "gVXfkCMQ2u3V",
        "outputId": "8033cf2e-236d-44b6-edce-300bb662abe8"
      },
      "outputs": [
        {
          "name": "stdout",
          "output_type": "stream",
          "text": [
            "Cloning into 'yolov5'...\n",
            "remote: Enumerating objects: 16582, done.\u001b[K\n",
            "remote: Counting objects: 100% (60/60), done.\u001b[K\n",
            "remote: Compressing objects: 100% (42/42), done.\u001b[K\n",
            "remote: Total 16582 (delta 30), reused 39 (delta 18), pack-reused 16522\u001b[K\n",
            "Receiving objects: 100% (16582/16582), 15.11 MiB | 14.11 MiB/s, done.\n",
            "Resolving deltas: 100% (11383/11383), done.\n"
          ]
        }
      ],
      "source": [
        "!git clone https://github.com/ultralytics/yolov5.git"
      ]
    },
    {
      "cell_type": "code",
      "execution_count": 23,
      "metadata": {
        "colab": {
          "base_uri": "https://localhost:8080/"
        },
        "id": "lpJiITdu0nd_",
        "outputId": "c50ee857-3ba9-4b9b-bd7f-3f97a7bc64e6"
      },
      "outputs": [
        {
          "name": "stdout",
          "output_type": "stream",
          "text": [
            "/content/drive/MyDrive/yolov5\n"
          ]
        }
      ],
      "source": [
        "%cd yolov5/"
      ]
    },
    {
      "cell_type": "code",
      "execution_count": 24,
      "metadata": {
        "colab": {
          "base_uri": "https://localhost:8080/"
        },
        "id": "CgaOEFnD3LI4",
        "outputId": "504d7996-4acc-4b81-e2b2-ddf4741e571c"
      },
      "outputs": [
        {
          "name": "stdout",
          "output_type": "stream",
          "text": [
            "Requirement already satisfied: gitpython>=3.1.30 in /usr/local/lib/python3.10/dist-packages (from -r requirements.txt (line 5)) (3.1.43)\n",
            "Requirement already satisfied: matplotlib>=3.3 in /usr/local/lib/python3.10/dist-packages (from -r requirements.txt (line 6)) (3.7.1)\n",
            "Requirement already satisfied: numpy>=1.23.5 in /usr/local/lib/python3.10/dist-packages (from -r requirements.txt (line 7)) (1.25.2)\n",
            "Requirement already satisfied: opencv-python>=4.1.1 in /usr/local/lib/python3.10/dist-packages (from -r requirements.txt (line 8)) (4.8.0.76)\n",
            "Requirement already satisfied: pillow>=10.3.0 in /usr/local/lib/python3.10/dist-packages (from -r requirements.txt (line 9)) (10.3.0)\n",
            "Requirement already satisfied: psutil in /usr/local/lib/python3.10/dist-packages (from -r requirements.txt (line 10)) (5.9.5)\n",
            "Requirement already satisfied: PyYAML>=5.3.1 in /usr/local/lib/python3.10/dist-packages (from -r requirements.txt (line 11)) (6.0.1)\n",
            "Requirement already satisfied: requests>=2.23.0 in /usr/local/lib/python3.10/dist-packages (from -r requirements.txt (line 12)) (2.31.0)\n",
            "Requirement already satisfied: scipy>=1.4.1 in /usr/local/lib/python3.10/dist-packages (from -r requirements.txt (line 13)) (1.11.4)\n",
            "Requirement already satisfied: thop>=0.1.1 in /usr/local/lib/python3.10/dist-packages (from -r requirements.txt (line 14)) (0.1.1.post2209072238)\n",
            "Requirement already satisfied: torch>=1.8.0 in /usr/local/lib/python3.10/dist-packages (from -r requirements.txt (line 15)) (2.2.1+cu121)\n",
            "Requirement already satisfied: torchvision>=0.9.0 in /usr/local/lib/python3.10/dist-packages (from -r requirements.txt (line 16)) (0.17.1+cu121)\n",
            "Requirement already satisfied: tqdm>=4.64.0 in /usr/local/lib/python3.10/dist-packages (from -r requirements.txt (line 17)) (4.66.4)\n",
            "Requirement already satisfied: ultralytics>=8.0.232 in /usr/local/lib/python3.10/dist-packages (from -r requirements.txt (line 18)) (8.2.13)\n",
            "Requirement already satisfied: pandas>=1.1.4 in /usr/local/lib/python3.10/dist-packages (from -r requirements.txt (line 27)) (2.0.3)\n",
            "Requirement already satisfied: seaborn>=0.11.0 in /usr/local/lib/python3.10/dist-packages (from -r requirements.txt (line 28)) (0.13.1)\n",
            "Requirement already satisfied: setuptools>=65.5.1 in /usr/local/lib/python3.10/dist-packages (from -r requirements.txt (line 42)) (67.7.2)\n",
            "Requirement already satisfied: wheel>=0.38.0 in /usr/local/lib/python3.10/dist-packages (from -r requirements.txt (line 50)) (0.43.0)\n",
            "Requirement already satisfied: gitdb<5,>=4.0.1 in /usr/local/lib/python3.10/dist-packages (from gitpython>=3.1.30->-r requirements.txt (line 5)) (4.0.11)\n",
            "Requirement already satisfied: contourpy>=1.0.1 in /usr/local/lib/python3.10/dist-packages (from matplotlib>=3.3->-r requirements.txt (line 6)) (1.2.1)\n",
            "Requirement already satisfied: cycler>=0.10 in /usr/local/lib/python3.10/dist-packages (from matplotlib>=3.3->-r requirements.txt (line 6)) (0.12.1)\n",
            "Requirement already satisfied: fonttools>=4.22.0 in /usr/local/lib/python3.10/dist-packages (from matplotlib>=3.3->-r requirements.txt (line 6)) (4.51.0)\n",
            "Requirement already satisfied: kiwisolver>=1.0.1 in /usr/local/lib/python3.10/dist-packages (from matplotlib>=3.3->-r requirements.txt (line 6)) (1.4.5)\n",
            "Requirement already satisfied: packaging>=20.0 in /usr/local/lib/python3.10/dist-packages (from matplotlib>=3.3->-r requirements.txt (line 6)) (24.0)\n",
            "Requirement already satisfied: pyparsing>=2.3.1 in /usr/local/lib/python3.10/dist-packages (from matplotlib>=3.3->-r requirements.txt (line 6)) (3.1.2)\n",
            "Requirement already satisfied: python-dateutil>=2.7 in /usr/local/lib/python3.10/dist-packages (from matplotlib>=3.3->-r requirements.txt (line 6)) (2.8.2)\n",
            "Requirement already satisfied: charset-normalizer<4,>=2 in /usr/local/lib/python3.10/dist-packages (from requests>=2.23.0->-r requirements.txt (line 12)) (3.3.2)\n",
            "Requirement already satisfied: idna<4,>=2.5 in /usr/local/lib/python3.10/dist-packages (from requests>=2.23.0->-r requirements.txt (line 12)) (3.7)\n",
            "Requirement already satisfied: urllib3<3,>=1.21.1 in /usr/local/lib/python3.10/dist-packages (from requests>=2.23.0->-r requirements.txt (line 12)) (2.0.7)\n",
            "Requirement already satisfied: certifi>=2017.4.17 in /usr/local/lib/python3.10/dist-packages (from requests>=2.23.0->-r requirements.txt (line 12)) (2024.2.2)\n",
            "Requirement already satisfied: filelock in /usr/local/lib/python3.10/dist-packages (from torch>=1.8.0->-r requirements.txt (line 15)) (3.14.0)\n",
            "Requirement already satisfied: typing-extensions>=4.8.0 in /usr/local/lib/python3.10/dist-packages (from torch>=1.8.0->-r requirements.txt (line 15)) (4.11.0)\n",
            "Requirement already satisfied: sympy in /usr/local/lib/python3.10/dist-packages (from torch>=1.8.0->-r requirements.txt (line 15)) (1.12)\n",
            "Requirement already satisfied: networkx in /usr/local/lib/python3.10/dist-packages (from torch>=1.8.0->-r requirements.txt (line 15)) (3.3)\n",
            "Requirement already satisfied: jinja2 in /usr/local/lib/python3.10/dist-packages (from torch>=1.8.0->-r requirements.txt (line 15)) (3.1.4)\n",
            "Requirement already satisfied: fsspec in /usr/local/lib/python3.10/dist-packages (from torch>=1.8.0->-r requirements.txt (line 15)) (2023.6.0)\n",
            "Requirement already satisfied: nvidia-cuda-nvrtc-cu12==12.1.105 in /usr/local/lib/python3.10/dist-packages (from torch>=1.8.0->-r requirements.txt (line 15)) (12.1.105)\n",
            "Requirement already satisfied: nvidia-cuda-runtime-cu12==12.1.105 in /usr/local/lib/python3.10/dist-packages (from torch>=1.8.0->-r requirements.txt (line 15)) (12.1.105)\n",
            "Requirement already satisfied: nvidia-cuda-cupti-cu12==12.1.105 in /usr/local/lib/python3.10/dist-packages (from torch>=1.8.0->-r requirements.txt (line 15)) (12.1.105)\n",
            "Requirement already satisfied: nvidia-cudnn-cu12==8.9.2.26 in /usr/local/lib/python3.10/dist-packages (from torch>=1.8.0->-r requirements.txt (line 15)) (8.9.2.26)\n",
            "Requirement already satisfied: nvidia-cublas-cu12==12.1.3.1 in /usr/local/lib/python3.10/dist-packages (from torch>=1.8.0->-r requirements.txt (line 15)) (12.1.3.1)\n",
            "Requirement already satisfied: nvidia-cufft-cu12==11.0.2.54 in /usr/local/lib/python3.10/dist-packages (from torch>=1.8.0->-r requirements.txt (line 15)) (11.0.2.54)\n",
            "Requirement already satisfied: nvidia-curand-cu12==10.3.2.106 in /usr/local/lib/python3.10/dist-packages (from torch>=1.8.0->-r requirements.txt (line 15)) (10.3.2.106)\n",
            "Requirement already satisfied: nvidia-cusolver-cu12==11.4.5.107 in /usr/local/lib/python3.10/dist-packages (from torch>=1.8.0->-r requirements.txt (line 15)) (11.4.5.107)\n",
            "Requirement already satisfied: nvidia-cusparse-cu12==12.1.0.106 in /usr/local/lib/python3.10/dist-packages (from torch>=1.8.0->-r requirements.txt (line 15)) (12.1.0.106)\n",
            "Requirement already satisfied: nvidia-nccl-cu12==2.19.3 in /usr/local/lib/python3.10/dist-packages (from torch>=1.8.0->-r requirements.txt (line 15)) (2.19.3)\n",
            "Requirement already satisfied: nvidia-nvtx-cu12==12.1.105 in /usr/local/lib/python3.10/dist-packages (from torch>=1.8.0->-r requirements.txt (line 15)) (12.1.105)\n",
            "Requirement already satisfied: triton==2.2.0 in /usr/local/lib/python3.10/dist-packages (from torch>=1.8.0->-r requirements.txt (line 15)) (2.2.0)\n",
            "Requirement already satisfied: nvidia-nvjitlink-cu12 in /usr/local/lib/python3.10/dist-packages (from nvidia-cusolver-cu12==11.4.5.107->torch>=1.8.0->-r requirements.txt (line 15)) (12.4.127)\n",
            "Requirement already satisfied: py-cpuinfo in /usr/local/lib/python3.10/dist-packages (from ultralytics>=8.0.232->-r requirements.txt (line 18)) (9.0.0)\n",
            "Requirement already satisfied: pytz>=2020.1 in /usr/local/lib/python3.10/dist-packages (from pandas>=1.1.4->-r requirements.txt (line 27)) (2023.4)\n",
            "Requirement already satisfied: tzdata>=2022.1 in /usr/local/lib/python3.10/dist-packages (from pandas>=1.1.4->-r requirements.txt (line 27)) (2024.1)\n",
            "Requirement already satisfied: smmap<6,>=3.0.1 in /usr/local/lib/python3.10/dist-packages (from gitdb<5,>=4.0.1->gitpython>=3.1.30->-r requirements.txt (line 5)) (5.0.1)\n",
            "Requirement already satisfied: six>=1.5 in /usr/local/lib/python3.10/dist-packages (from python-dateutil>=2.7->matplotlib>=3.3->-r requirements.txt (line 6)) (1.16.0)\n",
            "Requirement already satisfied: MarkupSafe>=2.0 in /usr/local/lib/python3.10/dist-packages (from jinja2->torch>=1.8.0->-r requirements.txt (line 15)) (2.1.5)\n",
            "Requirement already satisfied: mpmath>=0.19 in /usr/local/lib/python3.10/dist-packages (from sympy->torch>=1.8.0->-r requirements.txt (line 15)) (1.3.0)\n"
          ]
        }
      ],
      "source": [
        "!pip install -r requirements.txt"
      ]
    },
    {
      "cell_type": "code",
      "execution_count": 25,
      "metadata": {
        "colab": {
          "base_uri": "https://localhost:8080/"
        },
        "id": "hQnLxWAJ3W3K",
        "outputId": "ad94ddca-0caa-4123-a346-af5db687792f"
      },
      "outputs": [
        {
          "name": "stdout",
          "output_type": "stream",
          "text": [
            "2024-05-11 22:44:18.624924: E external/local_xla/xla/stream_executor/cuda/cuda_dnn.cc:9261] Unable to register cuDNN factory: Attempting to register factory for plugin cuDNN when one has already been registered\n",
            "2024-05-11 22:44:18.624989: E external/local_xla/xla/stream_executor/cuda/cuda_fft.cc:607] Unable to register cuFFT factory: Attempting to register factory for plugin cuFFT when one has already been registered\n",
            "2024-05-11 22:44:18.693015: E external/local_xla/xla/stream_executor/cuda/cuda_blas.cc:1515] Unable to register cuBLAS factory: Attempting to register factory for plugin cuBLAS when one has already been registered\n",
            "\u001b[34m\u001b[1mtrain: \u001b[0mweights=/content/drive/MyDrive/yolo_task/yolov5s.pt, cfg=, data=/content/drive/MyDrive/yolo_task/dataset.yaml, hyp=data/hyps/hyp.scratch-low.yaml, epochs=50, batch_size=8, imgsz=640, rect=False, resume=False, nosave=True, noval=False, noautoanchor=False, noplots=False, evolve=None, evolve_population=data/hyps, resume_evolve=None, bucket=, cache=ram, image_weights=False, device=, multi_scale=False, single_cls=False, optimizer=SGD, sync_bn=False, workers=8, project=runs/train, name=exp, exist_ok=False, quad=False, cos_lr=False, label_smoothing=0.0, patience=100, freeze=[0], save_period=-1, seed=0, local_rank=-1, entity=None, upload_dataset=False, bbox_interval=-1, artifact_alias=latest, ndjson_console=False, ndjson_file=False\n",
            "\u001b[34m\u001b[1mgithub: \u001b[0mup to date with https://github.com/ultralytics/yolov5 ✅\n",
            "YOLOv5 🚀 v7.0-307-g920c721e Python-3.10.12 torch-2.2.1+cu121 CUDA:0 (Tesla T4, 15102MiB)\n",
            "\n",
            "\u001b[34m\u001b[1mhyperparameters: \u001b[0mlr0=0.01, lrf=0.01, momentum=0.937, weight_decay=0.0005, warmup_epochs=3.0, warmup_momentum=0.8, warmup_bias_lr=0.1, box=0.05, cls=0.5, cls_pw=1.0, obj=1.0, obj_pw=1.0, iou_t=0.2, anchor_t=4.0, fl_gamma=0.0, hsv_h=0.015, hsv_s=0.7, hsv_v=0.4, degrees=0.0, translate=0.1, scale=0.5, shear=0.0, perspective=0.0, flipud=0.0, fliplr=0.5, mosaic=1.0, mixup=0.0, copy_paste=0.0\n",
            "\u001b[34m\u001b[1mComet: \u001b[0mrun 'pip install comet_ml' to automatically track and visualize YOLOv5 🚀 runs in Comet\n",
            "\u001b[34m\u001b[1mTensorBoard: \u001b[0mStart with 'tensorboard --logdir runs/train', view at http://localhost:6006/\n",
            "Downloading https://ultralytics.com/assets/Arial.ttf to /root/.config/Ultralytics/Arial.ttf...\n",
            "100% 755k/755k [00:00<00:00, 15.5MB/s]\n",
            "Overriding model.yaml nc=80 with nc=1\n",
            "\n",
            "                 from  n    params  module                                  arguments                     \n",
            "  0                -1  1      3520  models.common.Conv                      [3, 32, 6, 2, 2]              \n",
            "  1                -1  1     18560  models.common.Conv                      [32, 64, 3, 2]                \n",
            "  2                -1  1     18816  models.common.C3                        [64, 64, 1]                   \n",
            "  3                -1  1     73984  models.common.Conv                      [64, 128, 3, 2]               \n",
            "  4                -1  2    115712  models.common.C3                        [128, 128, 2]                 \n",
            "  5                -1  1    295424  models.common.Conv                      [128, 256, 3, 2]              \n",
            "  6                -1  3    625152  models.common.C3                        [256, 256, 3]                 \n",
            "  7                -1  1   1180672  models.common.Conv                      [256, 512, 3, 2]              \n",
            "  8                -1  1   1182720  models.common.C3                        [512, 512, 1]                 \n",
            "  9                -1  1    656896  models.common.SPPF                      [512, 512, 5]                 \n",
            " 10                -1  1    131584  models.common.Conv                      [512, 256, 1, 1]              \n",
            " 11                -1  1         0  torch.nn.modules.upsampling.Upsample    [None, 2, 'nearest']          \n",
            " 12           [-1, 6]  1         0  models.common.Concat                    [1]                           \n",
            " 13                -1  1    361984  models.common.C3                        [512, 256, 1, False]          \n",
            " 14                -1  1     33024  models.common.Conv                      [256, 128, 1, 1]              \n",
            " 15                -1  1         0  torch.nn.modules.upsampling.Upsample    [None, 2, 'nearest']          \n",
            " 16           [-1, 4]  1         0  models.common.Concat                    [1]                           \n",
            " 17                -1  1     90880  models.common.C3                        [256, 128, 1, False]          \n",
            " 18                -1  1    147712  models.common.Conv                      [128, 128, 3, 2]              \n",
            " 19          [-1, 14]  1         0  models.common.Concat                    [1]                           \n",
            " 20                -1  1    296448  models.common.C3                        [256, 256, 1, False]          \n",
            " 21                -1  1    590336  models.common.Conv                      [256, 256, 3, 2]              \n",
            " 22          [-1, 10]  1         0  models.common.Concat                    [1]                           \n",
            " 23                -1  1   1182720  models.common.C3                        [512, 512, 1, False]          \n",
            " 24      [17, 20, 23]  1     16182  models.yolo.Detect                      [1, [[10, 13, 16, 30, 33, 23], [30, 61, 62, 45, 59, 119], [116, 90, 156, 198, 373, 326]], [128, 256, 512]]\n",
            "Model summary: 214 layers, 7022326 parameters, 7022326 gradients, 15.9 GFLOPs\n",
            "\n",
            "Transferred 343/349 items from /content/drive/MyDrive/yolo_task/yolov5s.pt\n",
            "\u001b[34m\u001b[1mAMP: \u001b[0mchecks passed ✅\n",
            "\u001b[34m\u001b[1moptimizer:\u001b[0m SGD(lr=0.01) with parameter groups 57 weight(decay=0.0), 60 weight(decay=0.0005), 60 bias\n",
            "\u001b[34m\u001b[1malbumentations: \u001b[0mBlur(p=0.01, blur_limit=(3, 7)), MedianBlur(p=0.01, blur_limit=(3, 7)), ToGray(p=0.01), CLAHE(p=0.01, clip_limit=(1, 4.0), tile_grid_size=(8, 8))\n",
            "/usr/lib/python3.10/multiprocessing/popen_fork.py:66: RuntimeWarning: os.fork() was called. os.fork() is incompatible with multithreaded code, and JAX is multithreaded, so this will likely lead to a deadlock.\n",
            "  self.pid = os.fork()\n",
            "\u001b[34m\u001b[1mtrain: \u001b[0mScanning /content/drive/MyDrive/yolo_task/dataset/train/labels... 1237 images, 198 backgrounds, 0 corrupt: 100% 1244/1244 [05:11<00:00,  4.00it/s]\n",
            "\u001b[34m\u001b[1mtrain: \u001b[0mNew cache created: /content/drive/MyDrive/yolo_task/dataset/train/labels.cache\n",
            "\u001b[34m\u001b[1mtrain: \u001b[0mCaching images (1.4GB ram): 100% 1244/1244 [00:14<00:00, 87.51it/s] \n",
            "\u001b[34m\u001b[1mval: \u001b[0mScanning /content/drive/MyDrive/yolo_task/dataset/valid/labels.cache... 309 images, 49 backgrounds, 0 corrupt: 100% 309/309 [00:00<?, ?it/s]\n",
            "\u001b[34m\u001b[1mval: \u001b[0mCaching images (0.4GB ram): 100% 309/309 [00:04<00:00, 61.94it/s]\n",
            "\n",
            "\u001b[34m\u001b[1mAutoAnchor: \u001b[0m5.58 anchors/target, 1.000 Best Possible Recall (BPR). Current anchors are a good fit to dataset ✅\n",
            "Plotting labels to runs/train/exp/labels.jpg... \n",
            "Image sizes 640 train, 640 val\n",
            "Using 2 dataloader workers\n",
            "Logging results to \u001b[1mruns/train/exp\u001b[0m\n",
            "Starting training for 50 epochs...\n",
            "\n",
            "      Epoch    GPU_mem   box_loss   obj_loss   cls_loss  Instances       Size\n",
            "       0/49      1.78G     0.1032    0.02269          0          3        640: 100% 156/156 [00:37<00:00,  4.19it/s]\n",
            "                 Class     Images  Instances          P          R      mAP50   mAP50-95: 100% 20/20 [00:07<00:00,  2.50it/s]\n",
            "                   all        309        339    0.00312      0.853        0.1     0.0301\n",
            "\n",
            "      Epoch    GPU_mem   box_loss   obj_loss   cls_loss  Instances       Size\n",
            "       1/49      1.96G     0.0661    0.02041          0          4        640: 100% 156/156 [00:26<00:00,  5.96it/s]\n",
            "                 Class     Images  Instances          P          R      mAP50   mAP50-95: 100% 20/20 [00:03<00:00,  5.95it/s]\n",
            "                   all        309        339      0.382      0.327      0.281      0.116\n",
            "\n",
            "      Epoch    GPU_mem   box_loss   obj_loss   cls_loss  Instances       Size\n",
            "       2/49      1.96G    0.05443    0.01892          0          4        640: 100% 156/156 [00:28<00:00,  5.45it/s]\n",
            "                 Class     Images  Instances          P          R      mAP50   mAP50-95: 100% 20/20 [00:03<00:00,  5.06it/s]\n",
            "                   all        309        339      0.548      0.451      0.503      0.241\n",
            "\n",
            "      Epoch    GPU_mem   box_loss   obj_loss   cls_loss  Instances       Size\n",
            "       3/49      1.96G    0.04945    0.01595          0          5        640: 100% 156/156 [00:26<00:00,  5.94it/s]\n",
            "                 Class     Images  Instances          P          R      mAP50   mAP50-95: 100% 20/20 [00:03<00:00,  6.25it/s]\n",
            "                   all        309        339      0.537      0.563      0.552      0.273\n",
            "\n",
            "      Epoch    GPU_mem   box_loss   obj_loss   cls_loss  Instances       Size\n",
            "       4/49      1.96G    0.04552      0.014          0          7        640: 100% 156/156 [00:28<00:00,  5.42it/s]\n",
            "                 Class     Images  Instances          P          R      mAP50   mAP50-95: 100% 20/20 [00:04<00:00,  4.33it/s]\n",
            "                   all        309        339      0.828      0.669      0.795      0.436\n",
            "\n",
            "      Epoch    GPU_mem   box_loss   obj_loss   cls_loss  Instances       Size\n",
            "       5/49      1.96G    0.04177    0.01239          0          5        640: 100% 156/156 [00:29<00:00,  5.26it/s]\n",
            "                 Class     Images  Instances          P          R      mAP50   mAP50-95: 100% 20/20 [00:03<00:00,  5.21it/s]\n",
            "                   all        309        339      0.755      0.661      0.753      0.438\n",
            "\n",
            "      Epoch    GPU_mem   box_loss   obj_loss   cls_loss  Instances       Size\n",
            "       6/49      1.96G       0.04    0.01157          0          5        640: 100% 156/156 [00:29<00:00,  5.27it/s]\n",
            "                 Class     Images  Instances          P          R      mAP50   mAP50-95: 100% 20/20 [00:03<00:00,  6.25it/s]\n",
            "                   all        309        339      0.863      0.746      0.835      0.516\n",
            "\n",
            "      Epoch    GPU_mem   box_loss   obj_loss   cls_loss  Instances       Size\n",
            "       7/49      1.96G    0.03808    0.01133          0          7        640: 100% 156/156 [00:26<00:00,  5.99it/s]\n",
            "                 Class     Images  Instances          P          R      mAP50   mAP50-95: 100% 20/20 [00:03<00:00,  5.19it/s]\n",
            "                   all        309        339       0.85      0.823      0.895      0.552\n",
            "\n",
            "      Epoch    GPU_mem   box_loss   obj_loss   cls_loss  Instances       Size\n",
            "       8/49      1.96G    0.03768    0.01111          0          6        640: 100% 156/156 [00:29<00:00,  5.35it/s]\n",
            "                 Class     Images  Instances          P          R      mAP50   mAP50-95: 100% 20/20 [00:03<00:00,  6.37it/s]\n",
            "                   all        309        339      0.893      0.791       0.89      0.497\n",
            "\n",
            "      Epoch    GPU_mem   box_loss   obj_loss   cls_loss  Instances       Size\n",
            "       9/49      1.96G    0.03682    0.01051          0          4        640: 100% 156/156 [00:29<00:00,  5.21it/s]\n",
            "                 Class     Images  Instances          P          R      mAP50   mAP50-95: 100% 20/20 [00:03<00:00,  5.01it/s]\n",
            "                   all        309        339      0.859      0.796      0.872      0.529\n",
            "\n",
            "      Epoch    GPU_mem   box_loss   obj_loss   cls_loss  Instances       Size\n",
            "      10/49      1.96G    0.03554    0.01049          0         10        640: 100% 156/156 [00:29<00:00,  5.33it/s]\n",
            "                 Class     Images  Instances          P          R      mAP50   mAP50-95: 100% 20/20 [00:03<00:00,  6.25it/s]\n",
            "                   all        309        339      0.897      0.847      0.929      0.596\n",
            "\n",
            "      Epoch    GPU_mem   box_loss   obj_loss   cls_loss  Instances       Size\n",
            "      11/49      1.96G    0.03452    0.01007          0          5        640: 100% 156/156 [00:26<00:00,  5.91it/s]\n",
            "                 Class     Images  Instances          P          R      mAP50   mAP50-95: 100% 20/20 [00:03<00:00,  5.09it/s]\n",
            "                   all        309        339      0.875      0.847       0.93      0.611\n",
            "\n",
            "      Epoch    GPU_mem   box_loss   obj_loss   cls_loss  Instances       Size\n",
            "      12/49      1.96G    0.03315   0.009803          0          9        640: 100% 156/156 [00:29<00:00,  5.27it/s]\n",
            "                 Class     Images  Instances          P          R      mAP50   mAP50-95: 100% 20/20 [00:03<00:00,  6.23it/s]\n",
            "                   all        309        339      0.903      0.826      0.918      0.606\n",
            "\n",
            "      Epoch    GPU_mem   box_loss   obj_loss   cls_loss  Instances       Size\n",
            "      13/49      1.96G    0.03292    0.00943          0          6        640: 100% 156/156 [00:25<00:00,  6.06it/s]\n",
            "                 Class     Images  Instances          P          R      mAP50   mAP50-95: 100% 20/20 [00:04<00:00,  4.76it/s]\n",
            "                   all        309        339      0.905      0.868      0.945       0.62\n",
            "\n",
            "      Epoch    GPU_mem   box_loss   obj_loss   cls_loss  Instances       Size\n",
            "      14/49      1.96G    0.03136   0.009174          0         10        640: 100% 156/156 [00:30<00:00,  5.13it/s]\n",
            "                 Class     Images  Instances          P          R      mAP50   mAP50-95: 100% 20/20 [00:04<00:00,  4.76it/s]\n",
            "                   all        309        339      0.911      0.864      0.945      0.634\n",
            "\n",
            "      Epoch    GPU_mem   box_loss   obj_loss   cls_loss  Instances       Size\n",
            "      15/49      1.96G    0.03019   0.008743          0          4        640: 100% 156/156 [00:26<00:00,  6.00it/s]\n",
            "                 Class     Images  Instances          P          R      mAP50   mAP50-95: 100% 20/20 [00:03<00:00,  6.24it/s]\n",
            "                   all        309        339      0.951      0.861      0.958      0.635\n",
            "\n",
            "      Epoch    GPU_mem   box_loss   obj_loss   cls_loss  Instances       Size\n",
            "      16/49      1.96G     0.0298   0.008386          0          3        640: 100% 156/156 [00:28<00:00,  5.50it/s]\n",
            "                 Class     Images  Instances          P          R      mAP50   mAP50-95: 100% 20/20 [00:04<00:00,  4.44it/s]\n",
            "                   all        309        339      0.958      0.897      0.968      0.638\n",
            "\n",
            "      Epoch    GPU_mem   box_loss   obj_loss   cls_loss  Instances       Size\n",
            "      17/49      1.96G    0.02946   0.008524          0          1        640: 100% 156/156 [00:26<00:00,  5.89it/s]\n",
            "                 Class     Images  Instances          P          R      mAP50   mAP50-95: 100% 20/20 [00:03<00:00,  6.23it/s]\n",
            "                   all        309        339      0.958      0.872      0.956      0.653\n",
            "\n",
            "      Epoch    GPU_mem   box_loss   obj_loss   cls_loss  Instances       Size\n",
            "      18/49      1.96G    0.02929   0.008304          0          3        640: 100% 156/156 [00:27<00:00,  5.75it/s]\n",
            "                 Class     Images  Instances          P          R      mAP50   mAP50-95: 100% 20/20 [00:04<00:00,  4.00it/s]\n",
            "                   all        309        339      0.957      0.929       0.97      0.653\n",
            "\n",
            "      Epoch    GPU_mem   box_loss   obj_loss   cls_loss  Instances       Size\n",
            "      19/49      1.96G    0.02866   0.007975          0          6        640: 100% 156/156 [00:30<00:00,  5.17it/s]\n",
            "                 Class     Images  Instances          P          R      mAP50   mAP50-95: 100% 20/20 [00:03<00:00,  5.95it/s]\n",
            "                   all        309        339      0.956       0.92       0.97      0.666\n",
            "\n",
            "      Epoch    GPU_mem   box_loss   obj_loss   cls_loss  Instances       Size\n",
            "      20/49      1.96G    0.02788   0.007933          0         10        640: 100% 156/156 [00:27<00:00,  5.76it/s]\n",
            "                 Class     Images  Instances          P          R      mAP50   mAP50-95: 100% 20/20 [00:04<00:00,  4.43it/s]\n",
            "                   all        309        339      0.954      0.926      0.976      0.683\n",
            "\n",
            "      Epoch    GPU_mem   box_loss   obj_loss   cls_loss  Instances       Size\n",
            "      21/49      1.96G    0.02756   0.007808          0          3        640: 100% 156/156 [00:27<00:00,  5.63it/s]\n",
            "                 Class     Images  Instances          P          R      mAP50   mAP50-95: 100% 20/20 [00:03<00:00,  6.04it/s]\n",
            "                   all        309        339      0.952      0.935      0.979      0.688\n",
            "\n",
            "      Epoch    GPU_mem   box_loss   obj_loss   cls_loss  Instances       Size\n",
            "      22/49      1.96G    0.02642   0.007984          0          4        640: 100% 156/156 [00:27<00:00,  5.76it/s]\n",
            "                 Class     Images  Instances          P          R      mAP50   mAP50-95: 100% 20/20 [00:04<00:00,  4.32it/s]\n",
            "                   all        309        339       0.97      0.914      0.974      0.689\n",
            "\n",
            "      Epoch    GPU_mem   box_loss   obj_loss   cls_loss  Instances       Size\n",
            "      23/49      1.96G    0.02663   0.007581          0          8        640: 100% 156/156 [00:31<00:00,  5.02it/s]\n",
            "                 Class     Images  Instances          P          R      mAP50   mAP50-95: 100% 20/20 [00:03<00:00,  6.22it/s]\n",
            "                   all        309        339      0.942      0.956      0.976       0.69\n",
            "\n",
            "      Epoch    GPU_mem   box_loss   obj_loss   cls_loss  Instances       Size\n",
            "      24/49      1.96G    0.02628   0.007585          0          9        640: 100% 156/156 [00:27<00:00,  5.61it/s]\n",
            "                 Class     Images  Instances          P          R      mAP50   mAP50-95: 100% 20/20 [00:04<00:00,  4.55it/s]\n",
            "                   all        309        339       0.98      0.944      0.978      0.699\n",
            "\n",
            "      Epoch    GPU_mem   box_loss   obj_loss   cls_loss  Instances       Size\n",
            "      25/49      1.96G    0.02574   0.007317          0          6        640: 100% 156/156 [00:26<00:00,  5.98it/s]\n",
            "                 Class     Images  Instances          P          R      mAP50   mAP50-95: 100% 20/20 [00:03<00:00,  6.17it/s]\n",
            "                   all        309        339      0.985      0.939      0.984      0.708\n",
            "\n",
            "      Epoch    GPU_mem   box_loss   obj_loss   cls_loss  Instances       Size\n",
            "      26/49      1.96G    0.02493   0.006945          0          6        640: 100% 156/156 [00:27<00:00,  5.62it/s]\n",
            "                 Class     Images  Instances          P          R      mAP50   mAP50-95: 100% 20/20 [00:04<00:00,  4.42it/s]\n",
            "                   all        309        339      0.973      0.965      0.987      0.697\n",
            "\n",
            "      Epoch    GPU_mem   box_loss   obj_loss   cls_loss  Instances       Size\n",
            "      27/49      1.96G    0.02439   0.007351          0          3        640: 100% 156/156 [00:28<00:00,  5.38it/s]\n",
            "                 Class     Images  Instances          P          R      mAP50   mAP50-95: 100% 20/20 [00:04<00:00,  4.39it/s]\n",
            "                   all        309        339      0.964       0.95      0.987      0.697\n",
            "\n",
            "      Epoch    GPU_mem   box_loss   obj_loss   cls_loss  Instances       Size\n",
            "      28/49      1.96G    0.02455   0.007017          0          7        640: 100% 156/156 [00:30<00:00,  5.19it/s]\n",
            "                 Class     Images  Instances          P          R      mAP50   mAP50-95: 100% 20/20 [00:04<00:00,  4.90it/s]\n",
            "                   all        309        339      0.965      0.959      0.989      0.732\n",
            "\n",
            "      Epoch    GPU_mem   box_loss   obj_loss   cls_loss  Instances       Size\n",
            "      29/49      1.96G    0.02333   0.006747          0          4        640: 100% 156/156 [00:25<00:00,  6.10it/s]\n",
            "                 Class     Images  Instances          P          R      mAP50   mAP50-95: 100% 20/20 [00:03<00:00,  6.21it/s]\n",
            "                   all        309        339      0.981      0.947      0.984      0.731\n",
            "\n",
            "      Epoch    GPU_mem   box_loss   obj_loss   cls_loss  Instances       Size\n",
            "      30/49      1.96G    0.02364   0.006436          0          5        640: 100% 156/156 [00:29<00:00,  5.26it/s]\n",
            "                 Class     Images  Instances          P          R      mAP50   mAP50-95: 100% 20/20 [00:03<00:00,  5.55it/s]\n",
            "                   all        309        339      0.991      0.932      0.986      0.713\n",
            "\n",
            "      Epoch    GPU_mem   box_loss   obj_loss   cls_loss  Instances       Size\n",
            "      31/49      1.96G    0.02349   0.006898          0          7        640: 100% 156/156 [00:25<00:00,  6.08it/s]\n",
            "                 Class     Images  Instances          P          R      mAP50   mAP50-95: 100% 20/20 [00:03<00:00,  5.40it/s]\n",
            "                   all        309        339      0.984      0.938      0.981      0.736\n",
            "\n",
            "      Epoch    GPU_mem   box_loss   obj_loss   cls_loss  Instances       Size\n",
            "      32/49      1.96G    0.02297    0.00667          0          4        640: 100% 156/156 [00:35<00:00,  4.45it/s]\n",
            "                 Class     Images  Instances          P          R      mAP50   mAP50-95: 100% 20/20 [00:03<00:00,  6.20it/s]\n",
            "                   all        309        339      0.981      0.939      0.985      0.733\n",
            "\n",
            "      Epoch    GPU_mem   box_loss   obj_loss   cls_loss  Instances       Size\n",
            "      33/49      1.96G    0.02259   0.006325          0          5        640: 100% 156/156 [00:27<00:00,  5.58it/s]\n",
            "                 Class     Images  Instances          P          R      mAP50   mAP50-95: 100% 20/20 [00:04<00:00,  4.34it/s]\n",
            "                   all        309        339      0.961      0.957      0.987      0.731\n",
            "\n",
            "      Epoch    GPU_mem   box_loss   obj_loss   cls_loss  Instances       Size\n",
            "      34/49      1.96G    0.02254   0.006634          0          2        640: 100% 156/156 [00:27<00:00,  5.74it/s]\n",
            "                 Class     Images  Instances          P          R      mAP50   mAP50-95: 100% 20/20 [00:03<00:00,  6.17it/s]\n",
            "                   all        309        339      0.976      0.967      0.992      0.737\n",
            "\n",
            "      Epoch    GPU_mem   box_loss   obj_loss   cls_loss  Instances       Size\n",
            "      35/49      1.96G    0.02151   0.006452          0          5        640: 100% 156/156 [00:27<00:00,  5.74it/s]\n",
            "                 Class     Images  Instances          P          R      mAP50   mAP50-95: 100% 20/20 [00:04<00:00,  4.34it/s]\n",
            "                   all        309        339      0.979      0.964      0.991      0.743\n",
            "\n",
            "      Epoch    GPU_mem   box_loss   obj_loss   cls_loss  Instances       Size\n",
            "      36/49      1.96G    0.02123   0.006289          0          7        640: 100% 156/156 [00:30<00:00,  5.13it/s]\n",
            "                 Class     Images  Instances          P          R      mAP50   mAP50-95: 100% 20/20 [00:03<00:00,  5.57it/s]\n",
            "                   all        309        339      0.976      0.958      0.987       0.74\n",
            "\n",
            "      Epoch    GPU_mem   box_loss   obj_loss   cls_loss  Instances       Size\n",
            "      37/49      1.96G    0.02181   0.006402          0          4        640: 100% 156/156 [00:27<00:00,  5.59it/s]\n",
            "                 Class     Images  Instances          P          R      mAP50   mAP50-95: 100% 20/20 [00:04<00:00,  4.40it/s]\n",
            "                   all        309        339      0.989      0.962      0.988      0.747\n",
            "\n",
            "      Epoch    GPU_mem   box_loss   obj_loss   cls_loss  Instances       Size\n",
            "      38/49      1.96G    0.02127   0.006581          0          7        640: 100% 156/156 [00:25<00:00,  6.04it/s]\n",
            "                 Class     Images  Instances          P          R      mAP50   mAP50-95: 100% 20/20 [00:03<00:00,  6.17it/s]\n",
            "                   all        309        339      0.982      0.965      0.987      0.749\n",
            "\n",
            "      Epoch    GPU_mem   box_loss   obj_loss   cls_loss  Instances       Size\n",
            "      39/49      1.96G    0.02112    0.00611          0         11        640: 100% 156/156 [00:28<00:00,  5.45it/s]\n",
            "                 Class     Images  Instances          P          R      mAP50   mAP50-95: 100% 20/20 [00:04<00:00,  4.56it/s]\n",
            "                   all        309        339      0.974      0.968      0.987      0.748\n",
            "\n",
            "      Epoch    GPU_mem   box_loss   obj_loss   cls_loss  Instances       Size\n",
            "      40/49      1.96G    0.02062   0.006183          0         10        640: 100% 156/156 [00:27<00:00,  5.75it/s]\n",
            "                 Class     Images  Instances          P          R      mAP50   mAP50-95: 100% 20/20 [00:04<00:00,  4.73it/s]\n",
            "                   all        309        339       0.98      0.953      0.987      0.751\n",
            "\n",
            "      Epoch    GPU_mem   box_loss   obj_loss   cls_loss  Instances       Size\n",
            "      41/49      1.96G    0.02033   0.006251          0          4        640: 100% 156/156 [00:30<00:00,  5.08it/s]\n",
            "                 Class     Images  Instances          P          R      mAP50   mAP50-95: 100% 20/20 [00:04<00:00,  4.35it/s]\n",
            "                   all        309        339      0.976      0.972      0.988      0.745\n",
            "\n",
            "      Epoch    GPU_mem   box_loss   obj_loss   cls_loss  Instances       Size\n",
            "      42/49      1.96G    0.02004   0.006235          0          3        640: 100% 156/156 [00:27<00:00,  5.64it/s]\n",
            "                 Class     Images  Instances          P          R      mAP50   mAP50-95: 100% 20/20 [00:03<00:00,  6.19it/s]\n",
            "                   all        309        339      0.974      0.976      0.992      0.754\n",
            "\n",
            "      Epoch    GPU_mem   box_loss   obj_loss   cls_loss  Instances       Size\n",
            "      43/49      1.96G    0.01999   0.006098          0          9        640: 100% 156/156 [00:27<00:00,  5.78it/s]\n",
            "                 Class     Images  Instances          P          R      mAP50   mAP50-95: 100% 20/20 [00:04<00:00,  4.39it/s]\n",
            "                   all        309        339      0.983      0.965      0.991      0.751\n",
            "\n",
            "      Epoch    GPU_mem   box_loss   obj_loss   cls_loss  Instances       Size\n",
            "      44/49      1.96G    0.01946   0.005877          0         12        640: 100% 156/156 [00:27<00:00,  5.61it/s]\n",
            "                 Class     Images  Instances          P          R      mAP50   mAP50-95: 100% 20/20 [00:03<00:00,  6.19it/s]\n",
            "                   all        309        339      0.982      0.965      0.991      0.762\n",
            "\n",
            "      Epoch    GPU_mem   box_loss   obj_loss   cls_loss  Instances       Size\n",
            "      45/49      1.96G    0.01977   0.005938          0          4        640: 100% 156/156 [00:31<00:00,  5.00it/s]\n",
            "                 Class     Images  Instances          P          R      mAP50   mAP50-95: 100% 20/20 [00:04<00:00,  4.44it/s]\n",
            "                   all        309        339      0.968      0.982      0.991      0.753\n",
            "\n",
            "      Epoch    GPU_mem   box_loss   obj_loss   cls_loss  Instances       Size\n",
            "      46/49      1.96G    0.01954   0.005918          0          6        640: 100% 156/156 [00:27<00:00,  5.62it/s]\n",
            "                 Class     Images  Instances          P          R      mAP50   mAP50-95: 100% 20/20 [00:03<00:00,  6.13it/s]\n",
            "                   all        309        339      0.979      0.973      0.991      0.755\n",
            "\n",
            "      Epoch    GPU_mem   box_loss   obj_loss   cls_loss  Instances       Size\n",
            "      47/49      1.96G    0.01875   0.005736          0         10        640: 100% 156/156 [00:27<00:00,  5.77it/s]\n",
            "                 Class     Images  Instances          P          R      mAP50   mAP50-95: 100% 20/20 [00:04<00:00,  4.44it/s]\n",
            "                   all        309        339      0.985      0.971      0.991      0.768\n",
            "\n",
            "      Epoch    GPU_mem   box_loss   obj_loss   cls_loss  Instances       Size\n",
            "      48/49      1.96G    0.01913    0.00571          0          6        640: 100% 156/156 [00:26<00:00,  5.88it/s]\n",
            "                 Class     Images  Instances          P          R      mAP50   mAP50-95: 100% 20/20 [00:03<00:00,  6.10it/s]\n",
            "                   all        309        339      0.988      0.973      0.992      0.761\n",
            "\n",
            "      Epoch    GPU_mem   box_loss   obj_loss   cls_loss  Instances       Size\n",
            "      49/49      1.96G    0.01856   0.005764          0          8        640: 100% 156/156 [00:31<00:00,  4.90it/s]\n",
            "                 Class     Images  Instances          P          R      mAP50   mAP50-95: 100% 20/20 [00:04<00:00,  4.09it/s]\n",
            "                   all        309        339      0.988      0.965      0.992       0.76\n",
            "\n",
            "50 epochs completed in 0.451 hours.\n",
            "Optimizer stripped from runs/train/exp/weights/last.pt, 14.4MB\n",
            "Results saved to \u001b[1mruns/train/exp\u001b[0m\n"
          ]
        }
      ],
      "source": [
        "!python train.py --img 640 --batch 8 --epochs 50 --data '/content/drive/MyDrive/yolo_task/dataset.yaml' --weights '/content/drive/MyDrive/yolo_task/yolov5s.pt' --nosave --cache"
      ]
    },
    {
      "cell_type": "code",
      "execution_count": 27,
      "metadata": {
        "colab": {
          "base_uri": "https://localhost:8080/"
        },
        "id": "9veEMgkDCARl",
        "outputId": "bbee5469-18d4-42aa-a05e-9bdf3dcde035"
      },
      "outputs": [
        {
          "name": "stdout",
          "output_type": "stream",
          "text": [
            "\u001b[34m\u001b[1mdetect: \u001b[0mweights=['/content/drive/MyDrive/yolov5/runs/train/exp/weights/last.pt'], source=/content/drive/MyDrive/yolo_task/dataset/test/images, data=data/coco128.yaml, imgsz=[640, 640], conf_thres=0.25, iou_thres=0.45, max_det=1000, device=, view_img=False, save_txt=True, save_csv=False, save_conf=False, save_crop=True, nosave=False, classes=None, agnostic_nms=False, augment=False, visualize=False, update=False, project=runs/detect, name=exp, exist_ok=False, line_thickness=3, hide_labels=False, hide_conf=False, half=False, dnn=False, vid_stride=1\n",
            "YOLOv5 🚀 v7.0-307-g920c721e Python-3.10.12 torch-2.2.1+cu121 CUDA:0 (Tesla T4, 15102MiB)\n",
            "\n",
            "Fusing layers... \n",
            "Model summary: 157 layers, 7012822 parameters, 0 gradients, 15.8 GFLOPs\n",
            "image 1/4 /content/drive/MyDrive/yolo_task/dataset/test/images/photo_2024-05-12_00-03-53.jpg: 640x640 1 glasses, 11.7ms\n",
            "image 2/4 /content/drive/MyDrive/yolo_task/dataset/test/images/photo_2024-05-12_00-04-00.jpg: 640x640 1 glasses, 11.7ms\n",
            "image 3/4 /content/drive/MyDrive/yolo_task/dataset/test/images/photo_2024-05-12_00-04-06.jpg: 640x640 (no detections), 11.6ms\n",
            "image 4/4 /content/drive/MyDrive/yolo_task/dataset/test/images/photo_2024-05-12_00-04-10.jpg: 640x640 1 glasses, 11.6ms\n",
            "Speed: 0.7ms pre-process, 11.7ms inference, 122.2ms NMS per image at shape (1, 3, 640, 640)\n",
            "Results saved to \u001b[1mruns/detect/exp2\u001b[0m\n",
            "3 labels saved to runs/detect/exp2/labels\n"
          ]
        }
      ],
      "source": [
        "!python detect.py --source '/content/drive/MyDrive/yolo_task/dataset/test/images' --weights '/content/drive/MyDrive/yolov5/runs/train/exp/weights/last.pt' --img 640 --save-txt --save-crop"
      ]
    }
  ],
  "metadata": {
    "colab": {
      "provenance": []
    },
    "kernelspec": {
      "display_name": "Python 3",
      "name": "python3"
    },
    "language_info": {
      "name": "python"
    }
  },
  "nbformat": 4,
  "nbformat_minor": 0
}
